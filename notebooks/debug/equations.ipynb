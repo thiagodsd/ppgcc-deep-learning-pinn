{
 "cells": [
  {
   "cell_type": "markdown",
   "id": "fda21a1e",
   "metadata": {},
   "source": [
    "# tl;dr\n",
    "\n",
    "in this notebook we store the latex equations used in slideshow to simplify occassional changes."
   ]
  },
  {
   "cell_type": "markdown",
   "id": "443a136f",
   "metadata": {},
   "source": [
    "\\begin{align*}\n",
    "\\text{ODE} &: \\frac{dT}{dt} - k (T-S) = 0 \\\\\n",
    "\\text{Solution} &: T(t) = (T_0-S) e^{kt} + S\n",
    "\\end{align*}"
   ]
  },
  {
   "cell_type": "markdown",
   "id": "77ec30df",
   "metadata": {},
   "source": [
    "\\begin{align*}\n",
    "\\text{ODE} &: m\\frac{d^2x}{dt^2} + c \\frac{dx}{dt} + kx - F_0 cos(\\omega t + \\phi_d) = 0 \\\\\n",
    "\\text{Solution} &: x(t) = A_h e^{-\\gamma t}\\sin(w't + \\phi_h) + A\\cos(wt - \\phi) \\\\ \\\\\n",
    "\n",
    "w_0 & = \\sqrt{\\frac{k}{m}} \\\\\n",
    "\\gamma & = \\frac{c}{2m} \\\\\n",
    "w' & = \\sqrt{w_0^2 - \\gamma^2} \\\\\n",
    "A & = \\frac{F_0}{m\\sqrt{(w_0^2 - w^2)^2 + 4\\gamma^2w^2}} \\\\\n",
    "\\phi & = \\arctan\\left(\\frac{c w}{k - m w^2}\\right) - \\phi_{\\text{initial}} \\\\\n",
    "\\phi_h & = \\arctan\\left(\\frac{w'(x_0 - A\\cos(\\phi))}{v_0 + \\gamma(x_0 - A\\cos(\\phi)) - A w \\sin(\\phi)}\\right) \\\\\n",
    "A_h & = \\frac{x_0 - A\\cos(\\phi)}{\\sin(\\phi_h)} \\\\\n",
    "\\end{align*}"
   ]
  },
  {
   "cell_type": "markdown",
   "id": "ce691c64",
   "metadata": {},
   "source": [
    "\\begin{align*}\n",
    "L_{\\text{data}} &= MSE_\\mathcal{D}  = \\frac{1}{N_{\\text{data}}} \\sum \\| u - \\hat{u} \\|^{2} \\\\ \\\\\n",
    "L_{\\text{edp}} &= MSE_\\mathcal{F} + MSE_\\mathcal{B} \\\\\n",
    " &= \\frac{1}{N_{\\text{collocation}}} \\sum \\mathcal{F}\\left( \\hat{u}_{\\theta}(\\mathcal{C}) \\right)  + \\frac{1}{N_{\\text{boundary}}} \\sum \\mathcal{B}\\left( \\hat{u}_{\\theta}(\\mathcal{C}) \\right)\n",
    "\\end{align*}"
   ]
  },
  {
   "cell_type": "markdown",
   "id": "0d10f185",
   "metadata": {},
   "source": [
    "\\documentclass{article}\n",
    "\\usepackage[utf8]{inputenc}\n",
    "\\usepackage{algorithm}\n",
    "\\usepackage{algpseudocode}\n",
    "\n",
    "\\begin{document}\n",
    "\n",
    "\\begin{algorithm}\n",
    "\\caption{Treinamento de Physics Informed Neural Networks}\n",
    "\\begin{algorithmic}[1]\n",
    "\\Procedure{MLPTrain}{$X$, $Y$, $\\eta$, $epochs$}\n",
    "    \\State Initialize weights $W$ and biases $b$ randomly\n",
    "    \\For{$epoch = 1$ to $epochs$}\n",
    "        \\For{each ($x_i$, $y_i$) in ($X$, $Y$)}\n",
    "            \\State // Forward pass\n",
    "            \\State $a^{(0)} \\gets x_i$\n",
    "            \\For{$l = 1$ to $L$}\n",
    "                \\State $z^{(l)} \\gets W^{(l)}a^{(l-1)} + b^{(l)}$\n",
    "                \\State $a^{(l)} \\gets \\text{activation}(z^{(l)})$\n",
    "            \\EndFor\n",
    "            \n",
    "            \\State // Compute loss\n",
    "            \\State $L \\gets \\text{loss}(a^{(L)}, y_i)$\n",
    "            \n",
    "            \\State // Backward pass\n",
    "            \\State $\\delta^{(L)} \\gets \\text{loss derivative w.r.t. } a^{(L)} \\times \\text{activation derivative}(z^{(L)})$\n",
    "            \\For{$l = L-1$ to $1$ step $-1$}\n",
    "                \\State $\\delta^{(l)} \\gets (W^{(l+1)})^T \\delta^{(l+1)} \\times \\text{activation derivative}(z^{(l)})$\n",
    "            \\EndFor\n",
    "            \n",
    "            \\State // Update weights and biases\n",
    "            \\For{$l = 1$ to $L$}\n",
    "                \\State $W^{(l)} \\gets W^{(l)} - \\eta \\delta^{(l)} (a^{(l-1)})^T$\n",
    "                \\State $b^{(l)} \\gets b^{(l)} - \\eta \\delta^{(l)}$\n",
    "            \\EndFor\n",
    "        \\EndFor\n",
    "    \\EndFor\n",
    "\\EndProcedure\n",
    "\\end{algorithmic}\n",
    "\\end{algorithm}\n",
    "\n",
    "\\end{document}\n"
   ]
  },
  {
   "cell_type": "markdown",
   "id": "bd727f1b",
   "metadata": {},
   "source": [
    "."
   ]
  }
 ],
 "metadata": {
  "kernelspec": {
   "display_name": "Python 3 (ipykernel)",
   "language": "python",
   "name": "python3"
  },
  "language_info": {
   "codemirror_mode": {
    "name": "ipython",
    "version": 3
   },
   "file_extension": ".py",
   "mimetype": "text/x-python",
   "name": "python",
   "nbconvert_exporter": "python",
   "pygments_lexer": "ipython3",
   "version": "3.10.12"
  },
  "toc": {
   "base_numbering": 1,
   "nav_menu": {},
   "number_sections": true,
   "sideBar": true,
   "skip_h1_title": false,
   "title_cell": "contents",
   "title_sidebar": "Contents",
   "toc_cell": true,
   "toc_position": {},
   "toc_section_display": true,
   "toc_window_display": true
  },
  "varInspector": {
   "cols": {
    "lenName": 16,
    "lenType": 16,
    "lenVar": 40
   },
   "kernels_config": {
    "python": {
     "delete_cmd_postfix": "",
     "delete_cmd_prefix": "del ",
     "library": "var_list.py",
     "varRefreshCmd": "print(var_dic_list())"
    },
    "r": {
     "delete_cmd_postfix": ") ",
     "delete_cmd_prefix": "rm(",
     "library": "var_list.r",
     "varRefreshCmd": "cat(var_dic_list()) "
    }
   },
   "types_to_exclude": [
    "module",
    "function",
    "builtin_function_or_method",
    "instance",
    "_Feature"
   ],
   "window_display": false
  }
 },
 "nbformat": 4,
 "nbformat_minor": 5
}
