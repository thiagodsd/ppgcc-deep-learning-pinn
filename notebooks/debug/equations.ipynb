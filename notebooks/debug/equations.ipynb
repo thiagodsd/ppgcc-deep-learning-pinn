{
 "cells": [
  {
   "cell_type": "markdown",
   "id": "fda21a1e",
   "metadata": {},
   "source": [
    "# tl;dr\n",
    "\n",
    "in this notebook we store the latex equations used in slideshow to simplify occassional changes."
   ]
  },
  {
   "cell_type": "markdown",
   "id": "443a136f",
   "metadata": {},
   "source": [
    "\\begin{align*}\n",
    "\\text{ODE} &: \\frac{dT}{dt} - k (T-S) = 0 \\\\\n",
    "\\text{Solution} &: T(t) = (T_0-S) e^{kt} + S\n",
    "\\end{align*}"
   ]
  },
  {
   "cell_type": "markdown",
   "id": "77ec30df",
   "metadata": {},
   "source": [
    "\\begin{align*}\n",
    "\\text{ODE} &: m\\frac{d^2x}{dt^2} + c \\frac{dx}{dt} + kx - F_0 cos(\\omega t + \\phi_d) = 0 \\\\\n",
    "\\text{Solution} &: x(t) = A_h e^{-\\gamma t}\\sin(w't + \\phi_h) + A\\cos(wt - \\phi) \\\\ \\\\\n",
    "\n",
    "w_0 & = \\sqrt{\\frac{k}{m}} \\\\\n",
    "\\gamma & = \\frac{c}{2m} \\\\\n",
    "w' & = \\sqrt{w_0^2 - \\gamma^2} \\\\\n",
    "A & = \\frac{F_0}{m\\sqrt{(w_0^2 - w^2)^2 + 4\\gamma^2w^2}} \\\\\n",
    "\\phi & = \\arctan\\left(\\frac{c w}{k - m w^2}\\right) - \\phi_{\\text{initial}} \\\\\n",
    "\\phi_h & = \\arctan\\left(\\frac{w'(x_0 - A\\cos(\\phi))}{v_0 + \\gamma(x_0 - A\\cos(\\phi)) - A w \\sin(\\phi)}\\right) \\\\\n",
    "A_h & = \\frac{x_0 - A\\cos(\\phi)}{\\sin(\\phi_h)} \\\\\n",
    "\\end{align*}"
   ]
  },
  {
   "cell_type": "markdown",
   "id": "bd727f1b",
   "metadata": {},
   "source": [
    "."
   ]
  }
 ],
 "metadata": {
  "kernelspec": {
   "display_name": "Python 3 (ipykernel)",
   "language": "python",
   "name": "python3"
  },
  "language_info": {
   "codemirror_mode": {
    "name": "ipython",
    "version": 3
   },
   "file_extension": ".py",
   "mimetype": "text/x-python",
   "name": "python",
   "nbconvert_exporter": "python",
   "pygments_lexer": "ipython3",
   "version": "3.10.12"
  },
  "toc": {
   "base_numbering": 1,
   "nav_menu": {},
   "number_sections": true,
   "sideBar": true,
   "skip_h1_title": false,
   "title_cell": "contents",
   "title_sidebar": "Contents",
   "toc_cell": true,
   "toc_position": {},
   "toc_section_display": true,
   "toc_window_display": true
  },
  "varInspector": {
   "cols": {
    "lenName": 16,
    "lenType": 16,
    "lenVar": 40
   },
   "kernels_config": {
    "python": {
     "delete_cmd_postfix": "",
     "delete_cmd_prefix": "del ",
     "library": "var_list.py",
     "varRefreshCmd": "print(var_dic_list())"
    },
    "r": {
     "delete_cmd_postfix": ") ",
     "delete_cmd_prefix": "rm(",
     "library": "var_list.r",
     "varRefreshCmd": "cat(var_dic_list()) "
    }
   },
   "types_to_exclude": [
    "module",
    "function",
    "builtin_function_or_method",
    "instance",
    "_Feature"
   ],
   "window_display": false
  }
 },
 "nbformat": 4,
 "nbformat_minor": 5
}
