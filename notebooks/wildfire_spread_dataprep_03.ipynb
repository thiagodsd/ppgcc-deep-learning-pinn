{
 "cells": [
  {
   "cell_type": "markdown",
   "id": "48b3f7a7",
   "metadata": {
    "toc": true
   },
   "source": [
    "<h1>contents<span class=\"tocSkip\"></span></h1>\n",
    "<div class=\"toc\"><ul class=\"toc-item\"><li><span><a href=\"#setup\" data-toc-modified-id=\"setup-1\"><span class=\"toc-item-num\">1&nbsp;&nbsp;</span>setup</a></span></li><li><span><a href=\"#data\" data-toc-modified-id=\"data-2\"><span class=\"toc-item-num\">2&nbsp;&nbsp;</span>data</a></span></li></ul></div>"
   ]
  },
  {
   "cell_type": "markdown",
   "id": "74538cb2",
   "metadata": {},
   "source": [
    "# setup"
   ]
  },
  {
   "cell_type": "code",
   "execution_count": 15,
   "id": "22f5bfd4",
   "metadata": {},
   "outputs": [],
   "source": [
    "import datetime\n",
    "import gc\n",
    "import json\n",
    "import os\n",
    "import sys\n",
    "import pprint\n",
    "import warnings\n",
    "from io import BytesIO\n",
    "\n",
    "import cartopy.crs as ccrs\n",
    "import cartopy.feature as cfeature\n",
    "import folium\n",
    "import geopandas as gpd\n",
    "import h5py\n",
    "import matplotlib as mpl\n",
    "import matplotlib.pyplot as plt\n",
    "import matplotlib.animation as animation\n",
    "import netCDF4 as nc\n",
    "import numpy as np\n",
    "import optuna\n",
    "import pandas as pd\n",
    "import seaborn as sns\n",
    "import torch\n",
    "import torch.nn as nn\n",
    "import torch.optim as optim\n",
    "import tqdm\n",
    "from folium.plugins import HeatMap\n",
    "from IPython.display import display\n",
    "from scipy.interpolate import griddata\n",
    "from selenium import webdriver\n",
    "from skimage.transform import resize\n",
    "from sklearn.metrics import mean_squared_error, r2_score\n",
    "from sklearn.model_selection import ParameterGrid, train_test_split\n",
    "from sklearn.preprocessing import MinMaxScaler\n",
    "\n",
    "mpl.rcParams.update(mpl.rcParamsDefault)\n",
    "warnings.filterwarnings(\"ignore\")\n",
    "\n",
    "%matplotlib inline"
   ]
  },
  {
   "cell_type": "code",
   "execution_count": 16,
   "id": "e1fd078c",
   "metadata": {},
   "outputs": [],
   "source": [
    "sns.set_style(\"whitegrid\")\n",
    "\n",
    "plt.rcParams.update({\n",
    "    'font.size'       : 9,\n",
    "    'figure.figsize'  : (3.5, 2.8),\n",
    "    'figure.dpi'      : 300,\n",
    "    'savefig.dpi'     : 300,\n",
    "    'text.usetex'     : True,\n",
    "    'font.family'     : 'serif',\n",
    "    'font.serif'      : ['Times New Roman'],\n",
    "    'axes.labelsize'  : 9,\n",
    "    'axes.titlesize'  : 9,\n",
    "    'xtick.labelsize' : 8,\n",
    "    'ytick.labelsize' : 8,\n",
    "    'legend.fontsize' : 8,\n",
    "    'lines.linewidth' : 1,\n",
    "    'axes.linewidth'  : 1,\n",
    "    'grid.linestyle'  : '--',\n",
    "    'grid.linewidth'  : 0.5,\n",
    "    'grid.alpha'      : 0.8,\n",
    "})\n",
    "\n",
    "sns.set_context(\n",
    "    \"paper\", \n",
    "    rc={\n",
    "        \"font.size\"      : 9,\n",
    "        \"axes.titlesize\" : 9,\n",
    "        \"axes.labelsize\" : 9, \n",
    "        'xtick.labelsize': 8,\n",
    "        'ytick.labelsize': 8\n",
    "    }\n",
    ")"
   ]
  },
  {
   "cell_type": "code",
   "execution_count": 17,
   "id": "a6b692b0",
   "metadata": {},
   "outputs": [],
   "source": [
    "experiment_name = \"wildfire_spread\"\n",
    "folder_path = f\"../data/08_reporting/{experiment_name}\"\n",
    "if not os.path.exists(folder_path):\n",
    "    os.makedirs(folder_path)\n",
    "\n",
    "golden_ratio = (np.sqrt(5) - 1) / 2\n",
    "\n",
    "device = torch.device(\"cuda:0\" if torch.cuda.is_available() else \"cpu\")"
   ]
  },
  {
   "cell_type": "code",
   "execution_count": 18,
   "id": "e7eda084",
   "metadata": {},
   "outputs": [],
   "source": [
    "BRAZIL_EXTENT = [-74, -34, -34, 6]\n",
    "SAO_PAULO_EXTENT = [-53, -44, -25, -20]"
   ]
  },
  {
   "cell_type": "markdown",
   "id": "07d52fe1",
   "metadata": {},
   "source": [
    "# data"
   ]
  },
  {
   "cell_type": "code",
   "execution_count": 5,
   "id": "2a78feb0",
   "metadata": {},
   "outputs": [],
   "source": [
    "MAX_LAT = 32.99499999641088\n",
    "MIN_LAT = -55.98500000358912\n",
    "MAX_LON = -33.009801806103724\n",
    "MIN_LON = -119.98980180610373\n",
    "\n",
    "MAX_LAT = BRAZIL_EXTENT[3]\n",
    "MIN_LAT = BRAZIL_EXTENT[2]\n",
    "MAX_LON = BRAZIL_EXTENT[1]\n",
    "MIN_LON = BRAZIL_EXTENT[0]"
   ]
  },
  {
   "cell_type": "markdown",
   "id": "e8061d2d",
   "metadata": {},
   "source": [
    "loading npz files"
   ]
  },
  {
   "cell_type": "code",
   "execution_count": 6,
   "id": "5d275264",
   "metadata": {},
   "outputs": [
    {
     "name": "stdout",
     "output_type": "stream",
     "text": [
      "2023-10-31\n",
      "2023-11-01\n",
      "2023-11-02\n",
      "2023-11-03\n",
      "2023-11-04\n",
      "2023-11-05\n",
      "2023-11-06\n",
      "[Errno 2] No such file or directory: '../data/02_intermediate/wildfire_spread/20231106.npz'\n",
      "2023-11-07\n",
      "[Errno 2] No such file or directory: '../data/02_intermediate/wildfire_spread/20231107.npz'\n",
      "2023-11-08\n",
      "[Errno 2] No such file or directory: '../data/02_intermediate/wildfire_spread/20231108.npz'\n",
      "2023-11-09\n",
      "2023-11-10\n",
      "2023-11-11\n",
      "2023-11-12\n",
      "2023-11-13\n",
      "2023-11-14\n",
      "2023-11-15\n",
      "2023-11-16\n",
      "2023-11-17\n",
      "2023-11-18\n",
      "2023-11-19\n",
      "[Errno 2] No such file or directory: '../data/02_intermediate/wildfire_spread/20231119.npz'\n"
     ]
    }
   ],
   "source": [
    "TENSOR = torch.empty((0, 6, 3000, 3000), dtype=torch.float16)\n",
    "\n",
    "for _dt in pd.date_range(\"2023-10-31\", \"2023-11-19\", freq=\"D\"):\n",
    "    try:\n",
    "        print(_dt.strftime(\"%Y-%m-%d\"))\n",
    "        _data = np.load(\n",
    "            f\"../data/02_intermediate/wildfire_spread/{_dt.strftime('%Y%m%d')}.npz\",\n",
    "        )\n",
    "        _timestamp = _data[\"timestamps\"]\n",
    "        _tensor = _data[\"tensor\"].astype(np.float16)\n",
    "        _tensor = torch.from_numpy(_tensor)\n",
    "        _tensor = _tensor.unsqueeze(0)\n",
    "        TENSOR = torch.cat((TENSOR, _tensor), dim=0)\n",
    "        del _tensor\n",
    "        del _data\n",
    "        gc.collect()\n",
    "    except Exception as e:\n",
    "        print(e)\n",
    "        continue"
   ]
  },
  {
   "cell_type": "code",
   "execution_count": 7,
   "id": "1ff32c94",
   "metadata": {},
   "outputs": [],
   "source": [
    "# saving\n",
    "torch.save(TENSOR, f\"../data/02_intermediate/wildfire_spread/wildfire_spread_tensor.pt\")"
   ]
  },
  {
   "cell_type": "code",
   "execution_count": 20,
   "id": "b2a6998c",
   "metadata": {},
   "outputs": [],
   "source": [
    "def update_plot(frame, layer_data, img):\n",
    "    img.set_data(layer_data[frame])\n",
    "    return img,"
   ]
  },
  {
   "cell_type": "code",
   "execution_count": 26,
   "id": "fc7fbf2b",
   "metadata": {},
   "outputs": [],
   "source": [
    "LABELS = {\n",
    "    0 : \"Wildifire\",\n",
    "    1 : \"Days Without Rain\",\n",
    "    2 : \"Precipitation\",\n",
    "    3 : \"Temperature\",\n",
    "    4 : \"Relative Humidity\",\n",
    "    5 : \"Fire Risk\",\n",
    "}\n",
    "\n",
    "for _t, _timestamp in enumerate(TENSOR):\n",
    "    for _index, _layer in enumerate(_timestamp):\n",
    "        # plot each of 6 layers using cartopy\n",
    "        fig = plt.figure(figsize=(5, 5))\n",
    "        ax = plt.axes(projection=ccrs.PlateCarree(), frameon=False)\n",
    "        ax.set_extent([MIN_LON, MAX_LON, MIN_LAT, MAX_LAT], crs=ccrs.PlateCarree())\n",
    "\n",
    "        ax.imshow(\n",
    "            _layer,\n",
    "            origin=\"upper\",\n",
    "            extent=[MIN_LON, MAX_LON, MIN_LAT, MAX_LAT],\n",
    "            transform=ccrs.PlateCarree(),\n",
    "            cmap=\"gray\"\n",
    "        )\n",
    "        \n",
    "        plt.title(LABELS[_index])\n",
    "        plt.tight_layout()\n",
    "        plt.savefig(f\"../data/08_reporting/wildfire_spread/{LABELS[_index].replace(' ', '-')}_{_t}.png\".lower(), dpi=300)\n",
    "\n",
    "        plt.close(fig)"
   ]
  },
  {
   "cell_type": "code",
   "execution_count": null,
   "id": "ac55bed3",
   "metadata": {},
   "outputs": [],
   "source": []
  },
  {
   "cell_type": "code",
   "execution_count": null,
   "id": "d70df426",
   "metadata": {},
   "outputs": [],
   "source": []
  },
  {
   "cell_type": "code",
   "execution_count": null,
   "id": "9bf048a6",
   "metadata": {},
   "outputs": [],
   "source": []
  },
  {
   "cell_type": "code",
   "execution_count": null,
   "id": "41bb7e96",
   "metadata": {},
   "outputs": [],
   "source": []
  },
  {
   "cell_type": "code",
   "execution_count": null,
   "id": "db57d201",
   "metadata": {},
   "outputs": [],
   "source": []
  },
  {
   "cell_type": "code",
   "execution_count": null,
   "id": "8f308315",
   "metadata": {},
   "outputs": [],
   "source": []
  },
  {
   "cell_type": "code",
   "execution_count": null,
   "id": "f9a1caa7",
   "metadata": {},
   "outputs": [],
   "source": []
  },
  {
   "cell_type": "markdown",
   "id": "1a671388",
   "metadata": {},
   "source": [
    "auxiliary functions"
   ]
  },
  {
   "cell_type": "code",
   "execution_count": 15,
   "id": "a4440fec",
   "metadata": {},
   "outputs": [
    {
     "name": "stdout",
     "output_type": "stream",
     "text": [
      "                       HeatMap:    1.0 KiB\n",
      "                 ParameterGrid:    1.0 KiB\n",
      "                  MinMaxScaler:    1.0 KiB\n",
      "                           _i1:  947.0 B\n",
      "                           _i2:  806.0 B\n",
      "                          _i10:  752.0 B\n",
      "                           _i9:  655.0 B\n",
      "                           _i6:  613.0 B\n",
      "                          _iii:  536.0 B\n",
      "                          _i12:  536.0 B\n"
     ]
    }
   ],
   "source": [
    "def sizeof_fmt(num, suffix='B'):\n",
    "    \"\"\"\n",
    "    Convert size of objects in memory\n",
    "    \"\"\"\n",
    "    for unit in ['','Ki','Mi','Gi','Ti','Pi','Ei','Zi']:\n",
    "        if abs(num) < 1024.0:\n",
    "            return \"{:>6.1f} {}{}\".format(num, unit, suffix)\n",
    "        num /= 1024.0\n",
    "    return \"{:.1f} {}{}\".format(num, 'Yi', suffix)\n",
    "\n",
    "for name, size in sorted(((name, sys.getsizeof(value)) for name, value in locals().items()), key= lambda x: -x[1])[:10]:\n",
    "    print(\"{:>30}: {:>8}\".format(name, sizeof_fmt(size)))"
   ]
  },
  {
   "cell_type": "code",
   "execution_count": 16,
   "id": "69dcde62",
   "metadata": {},
   "outputs": [],
   "source": [
    "del __"
   ]
  },
  {
   "cell_type": "code",
   "execution_count": 13,
   "id": "23b645fd",
   "metadata": {},
   "outputs": [
    {
     "data": {
      "text/plain": [
       "0"
      ]
     },
     "execution_count": 13,
     "metadata": {},
     "output_type": "execute_result"
    }
   ],
   "source": [
    "gc.collect()"
   ]
  }
 ],
 "metadata": {
  "kernelspec": {
   "display_name": "Python 3 (ipykernel)",
   "language": "python",
   "name": "python3"
  },
  "language_info": {
   "codemirror_mode": {
    "name": "ipython",
    "version": 3
   },
   "file_extension": ".py",
   "mimetype": "text/x-python",
   "name": "python",
   "nbconvert_exporter": "python",
   "pygments_lexer": "ipython3",
   "version": "3.10.12"
  },
  "toc": {
   "base_numbering": 1,
   "nav_menu": {},
   "number_sections": true,
   "sideBar": true,
   "skip_h1_title": false,
   "title_cell": "contents",
   "title_sidebar": "Contents",
   "toc_cell": true,
   "toc_position": {},
   "toc_section_display": true,
   "toc_window_display": true
  },
  "varInspector": {
   "cols": {
    "lenName": 16,
    "lenType": 16,
    "lenVar": 40
   },
   "kernels_config": {
    "python": {
     "delete_cmd_postfix": "",
     "delete_cmd_prefix": "del ",
     "library": "var_list.py",
     "varRefreshCmd": "print(var_dic_list())"
    },
    "r": {
     "delete_cmd_postfix": ") ",
     "delete_cmd_prefix": "rm(",
     "library": "var_list.r",
     "varRefreshCmd": "cat(var_dic_list()) "
    }
   },
   "types_to_exclude": [
    "module",
    "function",
    "builtin_function_or_method",
    "instance",
    "_Feature"
   ],
   "window_display": false
  }
 },
 "nbformat": 4,
 "nbformat_minor": 5
}
