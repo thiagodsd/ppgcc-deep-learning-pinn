{
 "cells": [
  {
   "cell_type": "markdown",
   "id": "48b3f7a7",
   "metadata": {
    "toc": true
   },
   "source": [
    "<h1>contents<span class=\"tocSkip\"></span></h1>\n",
    "<div class=\"toc\"><ul class=\"toc-item\"><li><span><a href=\"#setup\" data-toc-modified-id=\"setup-1\"><span class=\"toc-item-num\">1&nbsp;&nbsp;</span>setup</a></span></li><li><span><a href=\"#data\" data-toc-modified-id=\"data-2\"><span class=\"toc-item-num\">2&nbsp;&nbsp;</span>data</a></span></li></ul></div>"
   ]
  },
  {
   "cell_type": "markdown",
   "id": "74538cb2",
   "metadata": {},
   "source": [
    "# setup"
   ]
  },
  {
   "cell_type": "code",
   "execution_count": 1,
   "id": "22f5bfd4",
   "metadata": {},
   "outputs": [],
   "source": [
    "import datetime\n",
    "import gc\n",
    "import json\n",
    "import os\n",
    "import sys\n",
    "import pprint\n",
    "import warnings\n",
    "from io import BytesIO\n",
    "\n",
    "import cartopy.crs as ccrs\n",
    "import cartopy.feature as cfeature\n",
    "import folium\n",
    "import geopandas as gpd\n",
    "import h5py\n",
    "import matplotlib as mpl\n",
    "import matplotlib.pyplot as plt\n",
    "import matplotlib.animation as animation\n",
    "import netCDF4 as nc\n",
    "import numpy as np\n",
    "import optuna\n",
    "import pandas as pd\n",
    "import seaborn as sns\n",
    "import torch\n",
    "import torch.nn as nn\n",
    "import torch.optim as optim\n",
    "import tqdm\n",
    "from folium.plugins import HeatMap\n",
    "from IPython.display import display\n",
    "from scipy.interpolate import griddata\n",
    "from selenium import webdriver\n",
    "from skimage.transform import resize\n",
    "from sklearn.metrics import mean_squared_error, r2_score\n",
    "from sklearn.model_selection import ParameterGrid, train_test_split\n",
    "from sklearn.preprocessing import MinMaxScaler\n",
    "\n",
    "mpl.rcParams.update(mpl.rcParamsDefault)\n",
    "warnings.filterwarnings(\"ignore\")\n",
    "\n",
    "%matplotlib inline"
   ]
  },
  {
   "cell_type": "code",
   "execution_count": 2,
   "metadata": {},
   "outputs": [
    {
     "name": "stdout",
     "output_type": "stream",
     "text": [
      "posix.uname_result(sysname='Linux', nodename='u22', release='6.2.0-36-generic', version='#37~22.04.1-Ubuntu SMP PREEMPT_DYNAMIC Mon Oct  9 15:34:04 UTC 2', machine='x86_64')\n",
      "\n",
      "3.10.12 (main, Jun 11 2023, 05:26:28) [GCC 11.4.0]\n",
      "sys.version_info(major=3, minor=10, micro=12, releaselevel='final', serial=0)\n",
      "\n",
      "2.0.0+cu117\n",
      "11.7\n",
      "8500\n",
      "NVIDIA GeForce GTX 1660 Ti\n",
      "True\n"
     ]
    }
   ],
   "source": [
    "print(os.uname())\n",
    "print()\n",
    "print(sys.version)\n",
    "print(sys.version_info)\n",
    "print()\n",
    "print(torch.__version__)\n",
    "print(torch.version.cuda)\n",
    "print(torch.backends.cudnn.version())\n",
    "print(torch.cuda.get_device_name(0))\n",
    "print(torch.cuda.is_available())"
   ]
  },
  {
   "cell_type": "code",
   "execution_count": 3,
   "id": "e1fd078c",
   "metadata": {},
   "outputs": [],
   "source": [
    "sns.set_style(\"whitegrid\")\n",
    "\n",
    "plt.rcParams.update({\n",
    "    'font.size'       : 9,\n",
    "    'figure.figsize'  : (3.5, 2.8),\n",
    "    'figure.dpi'      : 300,\n",
    "    'savefig.dpi'     : 300,\n",
    "    'text.usetex'     : True,\n",
    "    'font.family'     : 'serif',\n",
    "    'font.serif'      : ['Times New Roman'],\n",
    "    'axes.labelsize'  : 9,\n",
    "    'axes.titlesize'  : 9,\n",
    "    'xtick.labelsize' : 8,\n",
    "    'ytick.labelsize' : 8,\n",
    "    'legend.fontsize' : 8,\n",
    "    'lines.linewidth' : 1,\n",
    "    'axes.linewidth'  : 1,\n",
    "    'grid.linestyle'  : '--',\n",
    "    'grid.linewidth'  : 0.5,\n",
    "    'grid.alpha'      : 0.8,\n",
    "})\n",
    "\n",
    "sns.set_context(\n",
    "    \"paper\", \n",
    "    rc={\n",
    "        \"font.size\"      : 9,\n",
    "        \"axes.titlesize\" : 9,\n",
    "        \"axes.labelsize\" : 9, \n",
    "        'xtick.labelsize': 8,\n",
    "        'ytick.labelsize': 8\n",
    "    }\n",
    ")"
   ]
  },
  {
   "cell_type": "code",
   "execution_count": 4,
   "id": "a6b692b0",
   "metadata": {},
   "outputs": [],
   "source": [
    "experiment_name = \"wildfire_spread\"\n",
    "folder_path = f\"../data/08_reporting/{experiment_name}\"\n",
    "if not os.path.exists(folder_path):\n",
    "    os.makedirs(folder_path)\n",
    "\n",
    "golden_ratio = (np.sqrt(5) - 1) / 2\n",
    "\n",
    "device = torch.device(\"cuda:0\" if torch.cuda.is_available() else \"cpu\")"
   ]
  },
  {
   "cell_type": "code",
   "execution_count": 5,
   "id": "e7eda084",
   "metadata": {},
   "outputs": [],
   "source": [
    "BRAZIL_EXTENT = [-74, -34, -34, 6]\n",
    "SAO_PAULO_EXTENT = [-53, -44, -25, -20]"
   ]
  },
  {
   "cell_type": "code",
   "execution_count": 6,
   "id": "2a78feb0",
   "metadata": {},
   "outputs": [],
   "source": [
    "MAX_LAT = 32.99499999641088\n",
    "MIN_LAT = -55.98500000358912\n",
    "MAX_LON = -33.009801806103724\n",
    "MIN_LON = -119.98980180610373\n",
    "\n",
    "MAX_LAT = BRAZIL_EXTENT[3]\n",
    "MIN_LAT = BRAZIL_EXTENT[2]\n",
    "MAX_LON = BRAZIL_EXTENT[1]\n",
    "MIN_LON = BRAZIL_EXTENT[0]"
   ]
  },
  {
   "cell_type": "markdown",
   "id": "07d52fe1",
   "metadata": {},
   "source": [
    "# data"
   ]
  },
  {
   "cell_type": "code",
   "execution_count": 7,
   "metadata": {},
   "outputs": [],
   "source": [
    "DATA = torch.load(f\"../data/02_intermediate/wildfire_spread/wildfire_spread_tensor.pt\")"
   ]
  },
  {
   "cell_type": "code",
   "execution_count": 8,
   "metadata": {},
   "outputs": [
    {
     "data": {
      "text/plain": [
       "torch.Size([37, 5, 2400, 2400])"
      ]
     },
     "execution_count": 8,
     "metadata": {},
     "output_type": "execute_result"
    }
   ],
   "source": [
    "DATA.shape"
   ]
  },
  {
   "cell_type": "code",
   "execution_count": 17,
   "metadata": {},
   "outputs": [
    {
     "name": "stdout",
     "output_type": "stream",
     "text": [
      "DATA\n",
      "torch.Size([37, 2400, 2400])\n",
      "torch.Size([37, 4, 2400, 2400])\n",
      "\n",
      "TRAIN AND TEST SETS\n",
      "torch.Size([33, 4, 2400, 2400])\n",
      "torch.Size([4, 4, 2400, 2400])\n",
      "torch.Size([33, 2400, 2400])\n",
      "torch.Size([4, 2400, 2400])\n"
     ]
    }
   ],
   "source": [
    "TARGET = DATA[:, 0, :, :]\n",
    "FEATURES = DATA[:, 1:, :, :]\n",
    "\n",
    "print(\"DATA\")\n",
    "print(TARGET.shape)\n",
    "print(FEATURES.shape)\n",
    "\n",
    "# split data into train and test sets\n",
    "X_train, X_test, y_train, y_test = train_test_split(\n",
    "    FEATURES, TARGET, test_size=0.1, random_state=1\n",
    ")\n",
    "\n",
    "print()\n",
    "print(\"TRAIN AND TEST SETS\")\n",
    "print(X_train.shape)\n",
    "print(X_test.shape)\n",
    "print(y_train.shape)\n",
    "print(y_test.shape)\n"
   ]
  },
  {
   "cell_type": "markdown",
   "metadata": {},
   "source": [
    "# architecture"
   ]
  },
  {
   "cell_type": "code",
   "execution_count": 9,
   "metadata": {},
   "outputs": [],
   "source": [
    "class WildfirePredictor(nn.Module):\n",
    "    \"\"\"\n",
    "    WildfirePredictor\n",
    "    \"\"\"\n",
    "    def __init__(self):\n",
    "        super(WildfirePredictor, self).__init__()\n",
    "        # CNN layers\n",
    "        self.conv1 = nn.Conv2d(5, 16, kernel_size=3, stride=1, padding=1)\n",
    "        self.conv2 = nn.Conv2d(16, 32, kernel_size=3, stride=1, padding=1)\n",
    "        self.pool = nn.MaxPool2d(kernel_size=2, stride=2, padding=0)\n",
    "\n",
    "        self.lstm = nn.LSTM(input_size=2400, hidden_size=100, num_layers=2, batch_first=True)\n",
    "\n",
    "        self.fc = nn.Linear(100, 2400 * 2400)\n",
    "\n",
    "    def forward(self, x):\n",
    "        batch_size, timesteps, C, H, W = x.size()\n",
    "        c_out = torch.empty(batch_size, timesteps, 32, H, W, device=x.device)\n",
    "        for t in range(timesteps):\n",
    "            x_t = self.pool(torch.relu(self.conv1(x[:, t])))\n",
    "            x_t = self.pool(torch.relu(self.conv2(x_t)))\n",
    "\n",
    "            c_out[:, t] = x_t.view(batch_size, 32, -1)\n",
    "\n",
    "        r_out, (h_n, c_n) = self.lstm(c_out)\n",
    "\n",
    "        r_out = r_out[:, -1] \n",
    "        r_out = self.fc(r_out)\n",
    "\n",
    "        r_out = r_out.view(batch_size, 2400, 2400)\n",
    "\n",
    "        return r_out"
   ]
  },
  {
   "cell_type": "code",
   "execution_count": null,
   "metadata": {},
   "outputs": [],
   "source": []
  },
  {
   "cell_type": "code",
   "execution_count": null,
   "metadata": {},
   "outputs": [],
   "source": []
  },
  {
   "cell_type": "code",
   "execution_count": null,
   "metadata": {},
   "outputs": [],
   "source": []
  },
  {
   "cell_type": "code",
   "execution_count": null,
   "metadata": {},
   "outputs": [],
   "source": []
  },
  {
   "cell_type": "code",
   "execution_count": null,
   "metadata": {},
   "outputs": [],
   "source": []
  }
 ],
 "metadata": {
  "kernelspec": {
   "display_name": "pinn",
   "language": "python",
   "name": "python3"
  },
  "language_info": {
   "codemirror_mode": {
    "name": "ipython",
    "version": 3
   },
   "file_extension": ".py",
   "mimetype": "text/x-python",
   "name": "python",
   "nbconvert_exporter": "python",
   "pygments_lexer": "ipython3",
   "version": "3.10.12"
  },
  "toc": {
   "base_numbering": 1,
   "nav_menu": {},
   "number_sections": true,
   "sideBar": true,
   "skip_h1_title": false,
   "title_cell": "contents",
   "title_sidebar": "Contents",
   "toc_cell": true,
   "toc_position": {},
   "toc_section_display": true,
   "toc_window_display": true
  },
  "varInspector": {
   "cols": {
    "lenName": 16,
    "lenType": 16,
    "lenVar": 40
   },
   "kernels_config": {
    "python": {
     "delete_cmd_postfix": "",
     "delete_cmd_prefix": "del ",
     "library": "var_list.py",
     "varRefreshCmd": "print(var_dic_list())"
    },
    "r": {
     "delete_cmd_postfix": ") ",
     "delete_cmd_prefix": "rm(",
     "library": "var_list.r",
     "varRefreshCmd": "cat(var_dic_list()) "
    }
   },
   "position": {
    "height": "472.396px",
    "left": "1610.56px",
    "right": "20px",
    "top": "115.99px",
    "width": "439.306px"
   },
   "types_to_exclude": [
    "module",
    "function",
    "builtin_function_or_method",
    "instance",
    "_Feature"
   ],
   "window_display": true
  }
 },
 "nbformat": 4,
 "nbformat_minor": 5
}
